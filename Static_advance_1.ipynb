{
 "cells": [
  {
   "cell_type": "markdown",
   "id": "9c8051a6",
   "metadata": {},
   "source": [
    "#Ans1.)\n",
    "\n",
    "The Probability Density Function (PDF) is a function that describes the likelihood of a continuous random variable taking on a particular value. It provides the probability of the variable falling within a particular range of values. The area under the PDF curve within a specific interval represents the probability of the variable falling within that interval"
   ]
  },
  {
   "cell_type": "markdown",
   "id": "f6a4dfe5",
   "metadata": {},
   "source": []
  },
  {
   "cell_type": "markdown",
   "id": "90749f4b",
   "metadata": {},
   "source": [
    "#Ans2.)\n",
    "\n",
    "The types of Probability distributions include:\n",
    "\n",
    "Normal Distribution\n",
    "Binomial Distribution\n",
    "Poisson Distribution\n",
    "Exponential Distribution\n",
    "Uniform Distribution\n",
    "Bernoulli Distribution\n",
    "Geometric Distribution\n",
    "Gamma Distribution\n",
    "Chi-Square Distribution\n",
    "Student's t-Distribution\n",
    "F-Distribution\n",
    "Log-Normal Distribution\n",
    "Pareto Distribution"
   ]
  },
  {
   "cell_type": "code",
   "execution_count": null,
   "id": "d006b813",
   "metadata": {},
   "outputs": [],
   "source": []
  },
  {
   "cell_type": "code",
   "execution_count": 2,
   "id": "c6c0a344",
   "metadata": {},
   "outputs": [
    {
     "name": "stdout",
     "output_type": "stream",
     "text": [
      "PDF at x = 1 : 0.24197072451914337\n"
     ]
    }
   ],
   "source": [
    "#Ans3.)\n",
    "\n",
    "import numpy as np\n",
    "import scipy.stats\n",
    "\n",
    "def normal_pdf(x, mean, std_dev):\n",
    "    return scipy.stats.norm.pdf(x, mean, std_dev)\n",
    "\n",
    "# Example usage:\n",
    "mean = 0\n",
    "std_dev = 1\n",
    "x_value = 1\n",
    "pdf_value = normal_pdf(x_value, mean, std_dev)\n",
    "print(\"PDF at x =\", x_value, \":\", pdf_value)\n"
   ]
  },
  {
   "cell_type": "code",
   "execution_count": null,
   "id": "03096fe2",
   "metadata": {},
   "outputs": [],
   "source": []
  },
  {
   "cell_type": "markdown",
   "id": "6897da11",
   "metadata": {},
   "source": [
    "#Ans4.)\n",
    "\n",
    "Properties of Binomial distribution:\n",
    "\n",
    "It consists of a fixed number of independent Bernoulli trials.\n",
    "Each trial has only two possible outcomes: success or failure.\n",
    "The probability of success (p) remains constant across all trials.\n",
    "The trials are independent of each other.\n",
    "Examples:\n",
    "\n",
    "Tossing a fair coin multiple times and counting the number of heads.\n",
    "Conducting a series of medical tests and determining the number of positive results."
   ]
  },
  {
   "cell_type": "code",
   "execution_count": null,
   "id": "ccb0054a",
   "metadata": {},
   "outputs": [],
   "source": []
  },
  {
   "cell_type": "code",
   "execution_count": 4,
   "id": "cdb4845d",
   "metadata": {},
   "outputs": [
    {
     "data": {
      "image/png": "[encoded data removed]",
      "text/plain": [
       "<Figure size 640x480 with 1 Axes>"
      ]
     },
     "metadata": {},
     "output_type": "display_data"
    }
   ],
   "source": [
    "#Ans5.)\n",
    "\n",
    "import numpy as np\n",
    "import matplotlib.pyplot as plt\n",
    "\n",
    "# Generate random sample from binomial distribution\n",
    "sample = np.random.binomial(n=1, p=0.4, size=1000)\n",
    "\n",
    "# Plot histogram\n",
    "plt.hist(sample, bins=2, edgecolor='black')\n",
    "plt.title('Histogram of Binomial Distribution')\n",
    "plt.xlabel('Outcome')\n",
    "plt.ylabel('Frequency')\n",
    "plt.show()\n"
   ]
  },
  {
   "cell_type": "code",
   "execution_count": null,
   "id": "32a70abd",
   "metadata": {},
   "outputs": [],
   "source": []
  },
  {
   "cell_type": "code",
   "execution_count": 5,
   "id": "63a95dae",
   "metadata": {},
   "outputs": [
    {
     "name": "stdout",
     "output_type": "stream",
     "text": [
      "CDF at x = 2 : 0.12465201948308108\n"
     ]
    }
   ],
   "source": [
    "#Ans6.)\n",
    "\n",
    "import numpy as np\n",
    "import scipy.stats\n",
    "\n",
    "def poisson_cdf(x, mean):\n",
    "    return scipy.stats.poisson.cdf(x, mean)\n",
    "\n",
    "# Example usage:\n",
    "mean = 5\n",
    "x_value = 2\n",
    "cdf_value = poisson_cdf(x_value, mean)\n",
    "print(\"CDF at x =\", x_value, \":\", cdf_value)\n"
   ]
  },
  {
   "cell_type": "code",
   "execution_count": null,
   "id": "0badac7e",
   "metadata": {},
   "outputs": [],
   "source": []
  },
  {
   "cell_type": "markdown",
   "id": "25c983bf",
   "metadata": {},
   "source": [
    "#Ans7.)\n",
    "\n",
    "Binomial distribution differs from Poisson distribution in the following ways:\n",
    "\n",
    "Binomial distribution is used to model the number of successes in a fixed number of independent Bernoulli trials, whereas Poisson distribution is used to model the number of events occurring in a fixed interval of time or space.\n",
    "Binomial distribution requires specifying the number of trials (n) and the probability of success (p), while Poisson distribution requires specifying only the average rate of occurrence (λ) of the events.\n",
    "In the limit of large n and small p, the binomial distribution approaches the Poisson distribution."
   ]
  },
  {
   "cell_type": "code",
   "execution_count": null,
   "id": "3b55dacf",
   "metadata": {},
   "outputs": [],
   "source": []
  },
  {
   "cell_type": "code",
   "execution_count": 3,
   "id": "8aeaae4f",
   "metadata": {},
   "outputs": [
    {
     "name": "stdout",
     "output_type": "stream",
     "text": [
      "Sample Mean: 5.068\n",
      "Sample Variance: 5.2513760000000005\n"
     ]
    }
   ],
   "source": [
    "#Ans8.)\n",
    "\n",
    "import numpy as np\n",
    "\n",
    "# Generate random sample from Poisson distribution\n",
    "sample = np.random.poisson(lam=5, size=1000)\n",
    "\n",
    "# Calculate sample mean and variance\n",
    "sample_mean = np.mean(sample)\n",
    "sample_variance = np.var(sample)\n",
    "\n",
    "print(\"Sample Mean:\", sample_mean)\n",
    "print(\"Sample Variance:\", sample_variance)\n"
   ]
  },
  {
   "cell_type": "code",
   "execution_count": null,
   "id": "a9cdc450",
   "metadata": {},
   "outputs": [],
   "source": []
  },
  {
   "cell_type": "markdown",
   "id": "bb42d0a2",
   "metadata": {},
   "source": [
    "#Ans9.)\n",
    "\n",
    "In both Binomial and Poisson distributions:\n",
    "\n",
    "Mean (μ) equals the product of the number of trials (n) and the probability of success (p) in Binomial distribution, and it equals the average rate of occurrence (λ) in Poisson distribution.\n",
    "Variance (σ^2) equals the product of the number of trials (n), the probability of success (p), and the probability of failure (1-p) in Binomial distribution, and it also equals the mean (λ) in Poisson distribution."
   ]
  },
  {
   "cell_type": "code",
   "execution_count": null,
   "id": "92806ab7",
   "metadata": {},
   "outputs": [],
   "source": []
  },
  {
   "cell_type": "markdown",
   "id": "2b0e063e",
   "metadata": {},
   "source": [
    "#Ans10.)\n",
    "\n",
    "In a normal distribution, the least frequent data appear farther away from the mean position, in the tails of the distribution. These tails represent the extreme values, which occur with lower probability compared to the data closer to the mean. Therefore, the least frequent data appear in the tails of the normal distribution.\n",
    "\n",
    "\n",
    "\n",
    "\n",
    "\n",
    "\n"
   ]
  },
  {
   "cell_type": "code",
   "execution_count": null,
   "id": "fac6464d",
   "metadata": {},
   "outputs": [],
   "source": []
  }
 ],
 "metadata": {
  "kernelspec": {
   "display_name": "Python 3 (ipykernel)",
   "language": "python",
   "name": "python3"
  },
  "language_info": {
   "codemirror_mode": {
    "name": "ipython",
    "version": 3
   },
   "file_extension": ".py",
   "mimetype": "text/x-python",
   "name": "python",
   "nbconvert_exporter": "python",
   "pygments_lexer": "ipython3",
   "version": "3.11.4"
  }
 },
 "nbformat": 4,
 "nbformat_minor": 5
}
